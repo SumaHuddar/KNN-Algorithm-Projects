{
 "cells": [
  {
   "cell_type": "markdown",
   "metadata": {},
   "source": [
    "# K_Nearest Neighbors on a Project Data"
   ]
  },
  {
   "cell_type": "code",
   "execution_count": 1,
   "metadata": {},
   "outputs": [],
   "source": [
    "# Import the Libraries\n",
    "import pandas as pd\n",
    "import numpy as np\n",
    "\n",
    "import matplotlib.pyplot as plt\n",
    "import seaborn as sns\n",
    "\n",
    "%matplotlib inline"
   ]
  },
  {
   "cell_type": "code",
   "execution_count": 2,
   "metadata": {},
   "outputs": [],
   "source": [
    "# Load the data\n",
    "\n",
    "df=pd.read_csv(\"KNN_Project_Data\")"
   ]
  },
  {
   "cell_type": "code",
   "execution_count": 3,
   "metadata": {},
   "outputs": [
    {
     "data": {
      "text/html": [
       "<div>\n",
       "<style scoped>\n",
       "    .dataframe tbody tr th:only-of-type {\n",
       "        vertical-align: middle;\n",
       "    }\n",
       "\n",
       "    .dataframe tbody tr th {\n",
       "        vertical-align: top;\n",
       "    }\n",
       "\n",
       "    .dataframe thead th {\n",
       "        text-align: right;\n",
       "    }\n",
       "</style>\n",
       "<table border=\"1\" class=\"dataframe\">\n",
       "  <thead>\n",
       "    <tr style=\"text-align: right;\">\n",
       "      <th></th>\n",
       "      <th>XVPM</th>\n",
       "      <th>GWYH</th>\n",
       "      <th>TRAT</th>\n",
       "      <th>TLLZ</th>\n",
       "      <th>IGGA</th>\n",
       "      <th>HYKR</th>\n",
       "      <th>EDFS</th>\n",
       "      <th>GUUB</th>\n",
       "      <th>MGJM</th>\n",
       "      <th>JHZC</th>\n",
       "      <th>TARGET CLASS</th>\n",
       "    </tr>\n",
       "  </thead>\n",
       "  <tbody>\n",
       "    <tr>\n",
       "      <th>0</th>\n",
       "      <td>1636.670614</td>\n",
       "      <td>817.988525</td>\n",
       "      <td>2565.995189</td>\n",
       "      <td>358.347163</td>\n",
       "      <td>550.417491</td>\n",
       "      <td>1618.870897</td>\n",
       "      <td>2147.641254</td>\n",
       "      <td>330.727893</td>\n",
       "      <td>1494.878631</td>\n",
       "      <td>845.136088</td>\n",
       "      <td>0</td>\n",
       "    </tr>\n",
       "    <tr>\n",
       "      <th>1</th>\n",
       "      <td>1013.402760</td>\n",
       "      <td>577.587332</td>\n",
       "      <td>2644.141273</td>\n",
       "      <td>280.428203</td>\n",
       "      <td>1161.873391</td>\n",
       "      <td>2084.107872</td>\n",
       "      <td>853.404981</td>\n",
       "      <td>447.157619</td>\n",
       "      <td>1193.032521</td>\n",
       "      <td>861.081809</td>\n",
       "      <td>1</td>\n",
       "    </tr>\n",
       "    <tr>\n",
       "      <th>2</th>\n",
       "      <td>1300.035501</td>\n",
       "      <td>820.518697</td>\n",
       "      <td>2025.854469</td>\n",
       "      <td>525.562292</td>\n",
       "      <td>922.206261</td>\n",
       "      <td>2552.355407</td>\n",
       "      <td>818.676686</td>\n",
       "      <td>845.491492</td>\n",
       "      <td>1968.367513</td>\n",
       "      <td>1647.186291</td>\n",
       "      <td>1</td>\n",
       "    </tr>\n",
       "    <tr>\n",
       "      <th>3</th>\n",
       "      <td>1059.347542</td>\n",
       "      <td>1066.866418</td>\n",
       "      <td>612.000041</td>\n",
       "      <td>480.827789</td>\n",
       "      <td>419.467495</td>\n",
       "      <td>685.666983</td>\n",
       "      <td>852.867810</td>\n",
       "      <td>341.664784</td>\n",
       "      <td>1154.391368</td>\n",
       "      <td>1450.935357</td>\n",
       "      <td>0</td>\n",
       "    </tr>\n",
       "    <tr>\n",
       "      <th>4</th>\n",
       "      <td>1018.340526</td>\n",
       "      <td>1313.679056</td>\n",
       "      <td>950.622661</td>\n",
       "      <td>724.742174</td>\n",
       "      <td>843.065903</td>\n",
       "      <td>1370.554164</td>\n",
       "      <td>905.469453</td>\n",
       "      <td>658.118202</td>\n",
       "      <td>539.459350</td>\n",
       "      <td>1899.850792</td>\n",
       "      <td>0</td>\n",
       "    </tr>\n",
       "  </tbody>\n",
       "</table>\n",
       "</div>"
      ],
      "text/plain": [
       "          XVPM         GWYH         TRAT        TLLZ         IGGA  \\\n",
       "0  1636.670614   817.988525  2565.995189  358.347163   550.417491   \n",
       "1  1013.402760   577.587332  2644.141273  280.428203  1161.873391   \n",
       "2  1300.035501   820.518697  2025.854469  525.562292   922.206261   \n",
       "3  1059.347542  1066.866418   612.000041  480.827789   419.467495   \n",
       "4  1018.340526  1313.679056   950.622661  724.742174   843.065903   \n",
       "\n",
       "          HYKR         EDFS        GUUB         MGJM         JHZC  \\\n",
       "0  1618.870897  2147.641254  330.727893  1494.878631   845.136088   \n",
       "1  2084.107872   853.404981  447.157619  1193.032521   861.081809   \n",
       "2  2552.355407   818.676686  845.491492  1968.367513  1647.186291   \n",
       "3   685.666983   852.867810  341.664784  1154.391368  1450.935357   \n",
       "4  1370.554164   905.469453  658.118202   539.459350  1899.850792   \n",
       "\n",
       "   TARGET CLASS  \n",
       "0             0  \n",
       "1             1  \n",
       "2             1  \n",
       "3             0  \n",
       "4             0  "
      ]
     },
     "execution_count": 3,
     "metadata": {},
     "output_type": "execute_result"
    }
   ],
   "source": [
    "df.head()"
   ]
  },
  {
   "cell_type": "code",
   "execution_count": 7,
   "metadata": {},
   "outputs": [],
   "source": [
    "# standardize the variables\n",
    "\n",
    "from sklearn.preprocessing import StandardScaler\n",
    "scaler=StandardScaler()\n",
    "scaler.fit(df.drop('TARGET CLASS', axis=1))\n",
    "\n",
    "scaled_features=scaler.transform(df.drop('TARGET CLASS', axis=1))\n",
    "scaled_data=pd.DataFrame(scaled_features, columns=df.columns[:-1])"
   ]
  },
  {
   "cell_type": "code",
   "execution_count": 8,
   "metadata": {},
   "outputs": [
    {
     "data": {
      "text/html": [
       "<div>\n",
       "<style scoped>\n",
       "    .dataframe tbody tr th:only-of-type {\n",
       "        vertical-align: middle;\n",
       "    }\n",
       "\n",
       "    .dataframe tbody tr th {\n",
       "        vertical-align: top;\n",
       "    }\n",
       "\n",
       "    .dataframe thead th {\n",
       "        text-align: right;\n",
       "    }\n",
       "</style>\n",
       "<table border=\"1\" class=\"dataframe\">\n",
       "  <thead>\n",
       "    <tr style=\"text-align: right;\">\n",
       "      <th></th>\n",
       "      <th>XVPM</th>\n",
       "      <th>GWYH</th>\n",
       "      <th>TRAT</th>\n",
       "      <th>TLLZ</th>\n",
       "      <th>IGGA</th>\n",
       "      <th>HYKR</th>\n",
       "      <th>EDFS</th>\n",
       "      <th>GUUB</th>\n",
       "      <th>MGJM</th>\n",
       "      <th>JHZC</th>\n",
       "    </tr>\n",
       "  </thead>\n",
       "  <tbody>\n",
       "    <tr>\n",
       "      <th>0</th>\n",
       "      <td>1.568522</td>\n",
       "      <td>-0.443435</td>\n",
       "      <td>1.619808</td>\n",
       "      <td>-0.958255</td>\n",
       "      <td>-1.128481</td>\n",
       "      <td>0.138336</td>\n",
       "      <td>0.980493</td>\n",
       "      <td>-0.932794</td>\n",
       "      <td>1.008313</td>\n",
       "      <td>-1.069627</td>\n",
       "    </tr>\n",
       "    <tr>\n",
       "      <th>1</th>\n",
       "      <td>-0.112376</td>\n",
       "      <td>-1.056574</td>\n",
       "      <td>1.741918</td>\n",
       "      <td>-1.504220</td>\n",
       "      <td>0.640009</td>\n",
       "      <td>1.081552</td>\n",
       "      <td>-1.182663</td>\n",
       "      <td>-0.461864</td>\n",
       "      <td>0.258321</td>\n",
       "      <td>-1.041546</td>\n",
       "    </tr>\n",
       "    <tr>\n",
       "      <th>2</th>\n",
       "      <td>0.660647</td>\n",
       "      <td>-0.436981</td>\n",
       "      <td>0.775793</td>\n",
       "      <td>0.213394</td>\n",
       "      <td>-0.053171</td>\n",
       "      <td>2.030872</td>\n",
       "      <td>-1.240707</td>\n",
       "      <td>1.149298</td>\n",
       "      <td>2.184784</td>\n",
       "      <td>0.342811</td>\n",
       "    </tr>\n",
       "    <tr>\n",
       "      <th>3</th>\n",
       "      <td>0.011533</td>\n",
       "      <td>0.191324</td>\n",
       "      <td>-1.433473</td>\n",
       "      <td>-0.100053</td>\n",
       "      <td>-1.507223</td>\n",
       "      <td>-1.753632</td>\n",
       "      <td>-1.183561</td>\n",
       "      <td>-0.888557</td>\n",
       "      <td>0.162310</td>\n",
       "      <td>-0.002793</td>\n",
       "    </tr>\n",
       "    <tr>\n",
       "      <th>4</th>\n",
       "      <td>-0.099059</td>\n",
       "      <td>0.820815</td>\n",
       "      <td>-0.904346</td>\n",
       "      <td>1.609015</td>\n",
       "      <td>-0.282065</td>\n",
       "      <td>-0.365099</td>\n",
       "      <td>-1.095644</td>\n",
       "      <td>0.391419</td>\n",
       "      <td>-1.365603</td>\n",
       "      <td>0.787762</td>\n",
       "    </tr>\n",
       "  </tbody>\n",
       "</table>\n",
       "</div>"
      ],
      "text/plain": [
       "       XVPM      GWYH      TRAT      TLLZ      IGGA      HYKR      EDFS  \\\n",
       "0  1.568522 -0.443435  1.619808 -0.958255 -1.128481  0.138336  0.980493   \n",
       "1 -0.112376 -1.056574  1.741918 -1.504220  0.640009  1.081552 -1.182663   \n",
       "2  0.660647 -0.436981  0.775793  0.213394 -0.053171  2.030872 -1.240707   \n",
       "3  0.011533  0.191324 -1.433473 -0.100053 -1.507223 -1.753632 -1.183561   \n",
       "4 -0.099059  0.820815 -0.904346  1.609015 -0.282065 -0.365099 -1.095644   \n",
       "\n",
       "       GUUB      MGJM      JHZC  \n",
       "0 -0.932794  1.008313 -1.069627  \n",
       "1 -0.461864  0.258321 -1.041546  \n",
       "2  1.149298  2.184784  0.342811  \n",
       "3 -0.888557  0.162310 -0.002793  \n",
       "4  0.391419 -1.365603  0.787762  "
      ]
     },
     "execution_count": 8,
     "metadata": {},
     "output_type": "execute_result"
    }
   ],
   "source": [
    "scaled_data.head()"
   ]
  },
  {
   "cell_type": "code",
   "execution_count": 9,
   "metadata": {},
   "outputs": [],
   "source": [
    "# Train Test Split\n",
    "\n",
    "X=scaled_data\n",
    "y=df['TARGET CLASS']\n",
    "\n",
    "from sklearn.model_selection import train_test_split\n",
    "X_train, X_test, y_train, y_test=train_test_split(X,y, test_size=0.3, random_state=0)"
   ]
  },
  {
   "cell_type": "code",
   "execution_count": 10,
   "metadata": {},
   "outputs": [
    {
     "data": {
      "text/plain": [
       "KNeighborsClassifier(algorithm='auto', leaf_size=30, metric='minkowski',\n",
       "           metric_params=None, n_jobs=None, n_neighbors=1, p=2,\n",
       "           weights='uniform')"
      ]
     },
     "execution_count": 10,
     "metadata": {},
     "output_type": "execute_result"
    }
   ],
   "source": [
    "# Apply KNN on Training data\n",
    "from sklearn.neighbors import KNeighborsClassifier\n",
    "knn=KNeighborsClassifier(n_neighbors=1)\n",
    "knn.fit(X_train, y_train)"
   ]
  },
  {
   "cell_type": "code",
   "execution_count": 11,
   "metadata": {},
   "outputs": [],
   "source": [
    "# Prediction\n",
    "y_pred=knn.predict(X_test)"
   ]
  },
  {
   "cell_type": "code",
   "execution_count": 12,
   "metadata": {},
   "outputs": [
    {
     "name": "stdout",
     "output_type": "stream",
     "text": [
      "[[114  45]\n",
      " [ 31 110]]\n",
      "              precision    recall  f1-score   support\n",
      "\n",
      "           0       0.79      0.72      0.75       159\n",
      "           1       0.71      0.78      0.74       141\n",
      "\n",
      "   micro avg       0.75      0.75      0.75       300\n",
      "   macro avg       0.75      0.75      0.75       300\n",
      "weighted avg       0.75      0.75      0.75       300\n",
      "\n"
     ]
    }
   ],
   "source": [
    "# Evaluation\n",
    "from sklearn.metrics import confusion_matrix, classification_report\n",
    "print(confusion_matrix(y_test, y_pred))\n",
    "print(classification_report(y_test, y_pred))"
   ]
  },
  {
   "cell_type": "code",
   "execution_count": 13,
   "metadata": {},
   "outputs": [],
   "source": [
    "# Elbow method to choose best k\n",
    "\n",
    "error_rate=[]\n",
    "\n",
    "for k in range(1,40):\n",
    "    knn=KNeighborsClassifier(n_neighbors=k)\n",
    "    knn.fit(X_train, y_train)\n",
    "    y_pred=knn.predict(X_test)\n",
    "    \n",
    "    error=np.mean(y_test!=y_pred)\n",
    "    error_rate.append(error)"
   ]
  },
  {
   "cell_type": "code",
   "execution_count": 14,
   "metadata": {},
   "outputs": [
    {
     "data": {
      "text/plain": [
       "[<matplotlib.lines.Line2D at 0x20aa8542550>]"
      ]
     },
     "execution_count": 14,
     "metadata": {},
     "output_type": "execute_result"
    },
    {
     "data": {
      "image/png": "[encoded data removed]",
      "text/plain": [
       "<Figure size 720x504 with 1 Axes>"
      ]
     },
     "metadata": {},
     "output_type": "display_data"
    }
   ],
   "source": [
    "sns.set_style('darkgrid')\n",
    "plt.figure(figsize=(10,7))\n",
    "plt.plot(range(1,40), error_rate, color='green', marker='o', linestyle='dashed',linewidth=2, \n",
    "         markersize=8, markerfacecolor='red' )"
   ]
  },
  {
   "cell_type": "code",
   "execution_count": 15,
   "metadata": {},
   "outputs": [
    {
     "name": "stdout",
     "output_type": "stream",
     "text": [
      "[[122  37]\n",
      " [ 23 118]]\n",
      "              precision    recall  f1-score   support\n",
      "\n",
      "           0       0.84      0.77      0.80       159\n",
      "           1       0.76      0.84      0.80       141\n",
      "\n",
      "   micro avg       0.80      0.80      0.80       300\n",
      "   macro avg       0.80      0.80      0.80       300\n",
      "weighted avg       0.80      0.80      0.80       300\n",
      "\n"
     ]
    }
   ],
   "source": [
    "# Choosing Best K\n",
    "\n",
    "knn=KNeighborsClassifier(n_neighbors=30)\n",
    "knn.fit(X_train, y_train)\n",
    "y_pred=knn.predict(X_test)\n",
    "\n",
    "from sklearn.metrics import confusion_matrix, classification_report\n",
    "print(confusion_matrix(y_test, y_pred))\n",
    "print(classification_report(y_test, y_pred))"
   ]
  }
 ],
 "metadata": {
  "kernelspec": {
   "display_name": "Python 3",
   "language": "python",
   "name": "python3"
  },
  "language_info": {
   "codemirror_mode": {
    "name": "ipython",
    "version": 3
   },
   "file_extension": ".py",
   "mimetype": "text/x-python",
   "name": "python",
   "nbconvert_exporter": "python",
   "pygments_lexer": "ipython3",
   "version": "3.6.3rc1"
  }
 },
 "nbformat": 4,
 "nbformat_minor": 2
}
